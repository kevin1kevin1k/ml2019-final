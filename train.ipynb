{
 "cells": [
  {
   "cell_type": "code",
   "execution_count": 15,
   "metadata": {},
   "outputs": [],
   "source": [
    "from pathlib import Path\n",
    "import numpy as np\n",
    "import yaml\n",
    "from copy import deepcopy\n",
    "import sklearn.preprocessing\n",
    "from scipy.special import logit, expit\n",
    "from sklearn.linear_model import Ridge#, Lasso\n",
    "from sklearn.multioutput import MultiOutputRegressor\n",
    "# from sklearn.tree import DecisionTreeRegressor\n",
    "# from sklearn.neighbors import KNeighborsRegressor\n",
    "# from sklearn.ensemble import AdaBoostRegressor, ExtraTreesRegressor, GradientBoostingRegressor, RandomForestRegressor\n",
    "# from sklearn.metrics import mean_absolute_error\n",
    "from datetime import datetime"
   ]
  },
  {
   "cell_type": "code",
   "execution_count": 2,
   "metadata": {},
   "outputs": [],
   "source": [
    "data_dir = Path('data')\n",
    "X_train = np.load(data_dir / 'X_train.npz')['arr_0']\n",
    "X_test = np.load(data_dir / 'X_test.npz')['arr_0']\n",
    "Y_train = np.load(data_dir / 'Y_train.npz')['arr_0']"
   ]
  },
  {
   "cell_type": "code",
   "execution_count": 3,
   "metadata": {},
   "outputs": [],
   "source": [
    "n_targets = Y_train.shape[1]\n",
    "seed = 1126"
   ]
  },
  {
   "cell_type": "code",
   "execution_count": 25,
   "metadata": {},
   "outputs": [],
   "source": [
    "config = yaml.safe_load(open('config.yml'))"
   ]
  },
  {
   "cell_type": "code",
   "execution_count": 6,
   "metadata": {},
   "outputs": [],
   "source": [
    "if config['scaler_X']:\n",
    "    scaler_X = getattr(sklearn.preprocessing, config['scaler_X'])()\n",
    "    X_train_scaled = scaler_X.fit_transform(X_train)\n",
    "    X_test_scaled = scaler_X.transform(X_test)\n",
    "else:\n",
    "    X_train_scaled = deepcopy(X_train)\n",
    "    X_test_scaled = deepcopy(X_test)"
   ]
  },
  {
   "cell_type": "code",
   "execution_count": 7,
   "metadata": {},
   "outputs": [],
   "source": [
    "Y_train_transformed = np.zeros_like(Y_train)\n",
    "\n",
    "transform_dict = {\n",
    "    'logit': logit,\n",
    "    'log': np.log,\n",
    "}\n",
    "inv_transform_dict = {\n",
    "    'logit': expit,\n",
    "    'log': np.exp,\n",
    "}\n",
    "\n",
    "for i, transform in enumerate(config['transforms_Y']):\n",
    "    Y_train_transformed[:, i] = transform_dict[transform](Y_train[:, i])\n",
    "\n",
    "if config['scaler_Y']:\n",
    "    scaler_Y = getattr(sklearn.preprocessing, config['scaler_Y'])()\n",
    "    Y_train_scaled = scaler_Y.fit_transform(Y_train_transformed)\n",
    "else:\n",
    "    Y_train_scaled = deepcopy(Y_train_transformed)"
   ]
  },
  {
   "cell_type": "code",
   "execution_count": 8,
   "metadata": {},
   "outputs": [],
   "source": [
    "# def WMAE(y_true, y_pred):\n",
    "#     return mean_absolute_error(y_true, y_pred, multioutput=[200, 1, 300])"
   ]
  },
  {
   "cell_type": "code",
   "execution_count": 16,
   "metadata": {},
   "outputs": [
    {
     "data": {
      "text/plain": [
       "MultiOutputRegressor(estimator=Ridge(alpha=1.0, copy_X=True, fit_intercept=False, max_iter=None,\n",
       "   normalize=False, random_state=1126, solver='auto', tol=0.001),\n",
       "           n_jobs=1)"
      ]
     },
     "execution_count": 16,
     "metadata": {},
     "output_type": "execute_result"
    }
   ],
   "source": [
    "separate_targets = config['separate_targets']\n",
    "model_name = config['model_name']\n",
    "model_configs = config['model_configs']\n",
    "model = eval(model_name)(**model_configs)\n",
    "sample_weight = None\n",
    "if separate_targets:\n",
    "    model = MultiOutputRegressor(model)\n",
    "    if config['sample_weight'] == 'reciprocal':\n",
    "        sample_weight = 1 / Y_train[:, i]\n",
    "model.fit(X_train_scaled, Y_train_scaled, sample_weight=sample_weight)"
   ]
  },
  {
   "cell_type": "code",
   "execution_count": 17,
   "metadata": {},
   "outputs": [],
   "source": [
    "Y_pred_scaled = np.zeros((X_test.shape[0], n_targets))\n",
    "if not separate_targets:\n",
    "    Y_pred_scaled = model.predict(X_test_scaled)\n",
    "else:\n",
    "    for i in range(n_targets):\n",
    "        Y_pred_scaled[:, i] = models[i].predict(X_test_scaled)\n",
    "\n",
    "if config['scaler_Y']:\n",
    "    Y_pred_transformed = scaler_Y.inverse_transform(Y_pred_scaled)\n",
    "else:\n",
    "    Y_pred_transformed = Y_pred\n",
    "\n",
    "Y_pred = np.zeros_like(Y_pred_transformed)\n",
    "for i, transform in enumerate(config['transforms_Y']):\n",
    "    Y_pred[:, i] = inv_transform_dict[transform](Y_pred_transformed[:, i])\n",
    "\n",
    "Y_pred = np.clip(Y_pred, [0, 0, 0.5], [1, float('inf'), 1])"
   ]
  },
  {
   "cell_type": "code",
   "execution_count": 18,
   "metadata": {},
   "outputs": [],
   "source": [
    "now = datetime.now().strftime('%Y-%m-%d_%H:%M:%S')\n",
    "submission_filename = 'submissions/submission_{}.csv'.format(now)\n",
    "np.savetxt(submission_filename, Y_pred, delimiter=',', fmt='%.18f')"
   ]
  }
 ],
 "metadata": {
  "kernelspec": {
   "display_name": "Python 3",
   "language": "python",
   "name": "python3"
  },
  "language_info": {
   "codemirror_mode": {
    "name": "ipython",
    "version": 3
   },
   "file_extension": ".py",
   "mimetype": "text/x-python",
   "name": "python",
   "nbconvert_exporter": "python",
   "pygments_lexer": "ipython3",
   "version": "3.5.2"
  }
 },
 "nbformat": 4,
 "nbformat_minor": 2
}
