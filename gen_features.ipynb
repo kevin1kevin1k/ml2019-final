{
 "cells": [
  {
   "cell_type": "code",
   "execution_count": 24,
   "metadata": {},
   "outputs": [],
   "source": [
    "import numpy as np\n",
    "import pandas as pd\n",
    "from pathlib import Path\n",
    "import matplotlib.pyplot as plt"
   ]
  },
  {
   "cell_type": "code",
   "execution_count": 82,
   "metadata": {},
   "outputs": [],
   "source": [
    "data_dir = Path('data')\n",
    "\n",
    "X_train = np.load(data_dir / 'X_train.npz')['arr_0']\n",
    "X_test = np.load(data_dir / 'X_test.npz')['arr_0']\n",
    "Y_train = np.load(data_dir / 'Y_train.npz')['arr_0']"
   ]
  },
  {
   "cell_type": "code",
   "execution_count": 83,
   "metadata": {},
   "outputs": [],
   "source": [
    "half = 5000\n",
    "X_train_first_half = X_train[:, :half]\n",
    "X_test_first_half = X_test[:, :half]\n",
    "X_first_half = {'train': X_train_first_half, 'test': X_test_first_half}\n",
    "X_train_last_half = X_train[:, half:]\n",
    "X_test_last_half = X_test[:, half:]\n",
    "X_last_half = {'train': X_train_last_half, 'test': X_test_last_half}"
   ]
  },
  {
   "cell_type": "code",
   "execution_count": 94,
   "metadata": {},
   "outputs": [],
   "source": [
    "def gen_first_half_stats(train_or_test):\n",
    "    file_path = data_dir / 'X_{}_first_half_stats.npz'.format(train_or_test)\n",
    "    if file_path.exists():\n",
    "        print('{} already exists.'.format(file_path))\n",
    "    else:\n",
    "        X = X_first_half[train_or_test]\n",
    "        X_first_half_stats = np.vstack([\n",
    "            X.min(axis=1),\n",
    "            X.max(axis=1),\n",
    "            X.mean(axis=1),\n",
    "            X.std(axis=1),\n",
    "            (X[:, -1] - X[:, 0]) / half,\n",
    "        ]).T\n",
    "        np.savez(file_path, X_first_half_stats)"
   ]
  },
  {
   "cell_type": "code",
   "execution_count": 95,
   "metadata": {},
   "outputs": [
    {
     "name": "stdout",
     "output_type": "stream",
     "text": [
      "data/X_train_first_half_stats.npz already exists.\n",
      "data/X_test_first_half_stats.npz already exists.\n"
     ]
    }
   ],
   "source": [
    "gen_first_half_stats('train')\n",
    "gen_first_half_stats('test')"
   ]
  },
  {
   "cell_type": "code",
   "execution_count": 93,
   "metadata": {},
   "outputs": [],
   "source": [
    "def gen_first_half_deviation(train_or_test):\n",
    "    file_path = data_dir / 'X_{}_first_half_deviation.npz'.format(train_or_test)\n",
    "    if file_path.exists():\n",
    "        print('{} already exists.'.format(file_path))\n",
    "    else:\n",
    "        X = X_first_half[train_or_test]\n",
    "        X_first_half_deviation = np.zeros_like(X)\n",
    "        for i in range(len(X)):\n",
    "            slope = (X[i, -1] - X[i, 0]) / half\n",
    "            X_first_half_deviation[i] = X[i, 0] + slope * np.arange(half) - X[i, :]\n",
    "        np.savez(file_path, X_first_half_deviation)"
   ]
  },
  {
   "cell_type": "code",
   "execution_count": 88,
   "metadata": {},
   "outputs": [],
   "source": [
    "gen_first_half_deviation('train')\n",
    "gen_first_half_deviation('test')"
   ]
  },
  {
   "cell_type": "code",
   "execution_count": null,
   "metadata": {},
   "outputs": [],
   "source": []
  }
 ],
 "metadata": {
  "kernelspec": {
   "display_name": "Python 3",
   "language": "python",
   "name": "python3"
  },
  "language_info": {
   "codemirror_mode": {
    "name": "ipython",
    "version": 3
   },
   "file_extension": ".py",
   "mimetype": "text/x-python",
   "name": "python",
   "nbconvert_exporter": "python",
   "pygments_lexer": "ipython3",
   "version": "3.5.2"
  }
 },
 "nbformat": 4,
 "nbformat_minor": 2
}
